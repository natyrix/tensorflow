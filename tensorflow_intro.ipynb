{
  "nbformat": 4,
  "nbformat_minor": 0,
  "metadata": {
    "colab": {
      "provenance": [],
      "authorship_tag": "ABX9TyN7tX9TrR66etjsL8xPxY4l",
      "include_colab_link": true
    },
    "kernelspec": {
      "name": "python3",
      "display_name": "Python 3"
    },
    "language_info": {
      "name": "python"
    }
  },
  "cells": [
    {
      "cell_type": "markdown",
      "metadata": {
        "id": "view-in-github",
        "colab_type": "text"
      },
      "source": [
        "<a href=\"https://colab.research.google.com/github/natyrix/tensorflow/blob/main/tensorflow_intro.ipynb\" target=\"_parent\"><img src=\"https://colab.research.google.com/assets/colab-badge.svg\" alt=\"Open In Colab\"/></a>"
      ]
    },
    {
      "cell_type": "code",
      "execution_count": 13,
      "metadata": {
        "id": "mcoSNJfh62w1"
      },
      "outputs": [],
      "source": [
        "import tensorflow as tf\n"
      ]
    },
    {
      "cell_type": "code",
      "source": [
        "print(tf.version)"
      ],
      "metadata": {
        "colab": {
          "base_uri": "https://localhost:8080/"
        },
        "id": "2ABH-QsNHriN",
        "outputId": "d3b073a9-35eb-45d1-eb0c-1be98e9d5140"
      },
      "execution_count": 2,
      "outputs": [
        {
          "output_type": "stream",
          "name": "stdout",
          "text": [
            "<module 'tensorflow._api.v2.version' from '/usr/local/lib/python3.8/dist-packages/tensorflow/_api/v2/version/__init__.py'>\n"
          ]
        }
      ]
    },
    {
      "cell_type": "markdown",
      "source": [
        "# Creating Tensors"
      ],
      "metadata": {
        "id": "qCSoNc9JMibD"
      }
    },
    {
      "cell_type": "code",
      "source": [
        "string = tf.Variable(\"STRING VARIABLE\", tf.string)\n",
        "number = tf.Variable(232, tf.int16)\n",
        "floating = tf.Variable(2.22, tf.float64)"
      ],
      "metadata": {
        "id": "UjOT-_LiHwp6"
      },
      "execution_count": 6,
      "outputs": []
    },
    {
      "cell_type": "markdown",
      "source": [
        "# Rank/Degree of Tensors"
      ],
      "metadata": {
        "id": "j4e5x3-DMwSk"
      }
    },
    {
      "cell_type": "code",
      "source": [
        "rank1 = tf.Variable([\"TEST\"], tf.string)\n",
        "rank2 = tf.Variable([[\"RANK2\", \"TEST\"], [\"TESTING\", \"YES\"]], tf.string)"
      ],
      "metadata": {
        "id": "2hSj-6laKpJ5"
      },
      "execution_count": 7,
      "outputs": []
    },
    {
      "cell_type": "markdown",
      "source": [
        "## Determine rank"
      ],
      "metadata": {
        "id": "NwkJZCNRNGYB"
      }
    },
    {
      "cell_type": "code",
      "source": [
        "tf.rank(rank2)"
      ],
      "metadata": {
        "colab": {
          "base_uri": "https://localhost:8080/"
        },
        "id": "0Sc2OmRINEzm",
        "outputId": "6a47ba3a-23cd-4a3e-a09e-e0bab9bc8c1e"
      },
      "execution_count": 8,
      "outputs": [
        {
          "output_type": "execute_result",
          "data": {
            "text/plain": [
              "<tf.Tensor: shape=(), dtype=int32, numpy=2>"
            ]
          },
          "metadata": {},
          "execution_count": 8
        }
      ]
    },
    {
      "cell_type": "markdown",
      "source": [
        "# Shape of tensors"
      ],
      "metadata": {
        "id": "cCvRKCIkNMX5"
      }
    },
    {
      "cell_type": "code",
      "source": [
        "rank2.shape"
      ],
      "metadata": {
        "colab": {
          "base_uri": "https://localhost:8080/"
        },
        "id": "WB6KBpT3NKAz",
        "outputId": "da220f44-f372-4ffb-a2fd-5cc02b87ccae"
      },
      "execution_count": 9,
      "outputs": [
        {
          "output_type": "execute_result",
          "data": {
            "text/plain": [
              "TensorShape([2, 2])"
            ]
          },
          "metadata": {},
          "execution_count": 9
        }
      ]
    },
    {
      "cell_type": "markdown",
      "source": [
        "## Changing Shape"
      ],
      "metadata": {
        "id": "LkRGOtpBNXls"
      }
    },
    {
      "cell_type": "code",
      "source": [
        "tensor1 = tf.ones([1,2,3])\n",
        "tensor2 = tf.reshape(tensor1, [2,3,1])\n",
        "tensor3 = tf.reshape(tensor2, [3, -1])"
      ],
      "metadata": {
        "id": "vFMmkBtVNUVF"
      },
      "execution_count": 25,
      "outputs": []
    },
    {
      "cell_type": "code",
      "source": [
        "print(tensor1)\n",
        "print(tensor2)\n",
        "print(tensor3)"
      ],
      "metadata": {
        "colab": {
          "base_uri": "https://localhost:8080/"
        },
        "id": "iscaQcxPOAZG",
        "outputId": "3f146f19-e5ae-4332-83f4-7ec913ba3d9c"
      },
      "execution_count": 22,
      "outputs": [
        {
          "output_type": "stream",
          "name": "stdout",
          "text": [
            "tf.Tensor(\n",
            "[[[1. 1. 1.]\n",
            "  [1. 1. 1.]]], shape=(1, 2, 3), dtype=float32)\n",
            "tf.Tensor(\n",
            "[[[1.]\n",
            "  [1.]\n",
            "  [1.]]\n",
            "\n",
            " [[1.]\n",
            "  [1.]\n",
            "  [1.]]], shape=(2, 3, 1), dtype=float32)\n",
            "tf.Tensor(\n",
            "[[1. 1.]\n",
            " [1. 1.]\n",
            " [1. 1.]], shape=(3, 2), dtype=float32)\n"
          ]
        }
      ]
    }
  ]
}